{
  "nbformat": 4,
  "nbformat_minor": 0,
  "metadata": {
    "accelerator": "GPU",
    "colab": {
      "name": "PA4_Part_3_DQN.ipynb",
      "provenance": [],
      "collapsed_sections": []
    },
    "kernelspec": {
      "display_name": "Python 3",
      "language": "python",
      "name": "python3"
    },
    "language_info": {
      "codemirror_mode": {
        "name": "ipython",
        "version": 3
      },
      "file_extension": ".py",
      "mimetype": "text/x-python",
      "name": "python",
      "nbconvert_exporter": "python",
      "pygments_lexer": "ipython3",
      "version": "3.7.6"
    }
  },
  "cells": [
    {
      "cell_type": "markdown",
      "metadata": {
        "id": "V3szwJAdaoQa"
      },
      "source": [
        "## Enable rendering OpenAI Gym environments from CoLab\n",
        "\n",
        "In this assignemnt, We will use [OpenAI Gym](https://gym.openai.com/) for rendering game envionment for our agent to play and learn. It is possible and important to visualize the game your agent is playing, even on Colab. This section imports the necessary package and functions needed to generate a video in Colab. The video processing steps credit to [here](https://colab.research.google.com/drive/1flu31ulJlgiRL1dnN2ir8wGh9p7Zij2t)."
      ]
    },
    {
      "cell_type": "code",
      "metadata": {
        "id": "8rFaTvFab6Kz"
      },
      "source": [
        "!pip install gym pyvirtualdisplay > /dev/null 2>&1\n",
        "!apt-get install -y xvfb python-opengl ffmpeg > /dev/null 2>&1"
      ],
      "execution_count": 3,
      "outputs": []
    },
    {
      "cell_type": "code",
      "metadata": {
        "colab": {
          "base_uri": "https://localhost:8080/"
        },
        "id": "M9fFfA-gb8oC",
        "outputId": "7a4660db-f151-49d1-a317-c1c6c6d93368"
      },
      "source": [
        "!apt-get update > /dev/null 2>&1\n",
        "!apt-get install cmake > /dev/null 2>&1\n",
        "!pip install --upgrade setuptools 2>&1\n",
        "!pip install ez_setup > /dev/null 2>&1\n",
        "!pip install gym[atari] > /dev/null 2>&1"
      ],
      "execution_count": 4,
      "outputs": [
        {
          "output_type": "stream",
          "text": [
            "Requirement already up-to-date: setuptools in /usr/local/lib/python3.7/dist-packages (54.2.0)\n"
          ],
          "name": "stdout"
        }
      ]
    },
    {
      "cell_type": "markdown",
      "metadata": {
        "id": "QfTPg6uZckCm"
      },
      "source": [
        "Import openAI gym and define the functions used to show the video."
      ]
    },
    {
      "cell_type": "code",
      "metadata": {
        "id": "JLl9cs6ncAf0"
      },
      "source": [
        "import gym\n",
        "from gym.wrappers import Monitor\n",
        "import glob\n",
        "import io\n",
        "import base64\n",
        "from IPython.display import HTML\n",
        "from pyvirtualdisplay import Display\n",
        "from IPython import display as ipythondisplay\n",
        "\n",
        "display = Display(visible=0, size=(1400, 900))\n",
        "display.start()\n",
        "\n",
        "\"\"\"\n",
        "Utility functions to enable video recording of gym environment \n",
        "and displaying it.\n",
        "To enable video, just do \"env = wrap_env(env)\"\"\n",
        "\"\"\"\n",
        "\n",
        "def show_video():\n",
        "  mp4list = glob.glob('video/*.mp4')\n",
        "  if len(mp4list) > 0:\n",
        "    mp4 = mp4list[0]\n",
        "    video = io.open(mp4, 'r+b').read()\n",
        "    encoded = base64.b64encode(video)\n",
        "    ipythondisplay.display(HTML(data='''<video alt=\"test\" autoplay \n",
        "                loop controls style=\"height: 400px;\">\n",
        "                <source src=\"data:video/mp4;base64,{0}\" type=\"video/mp4\" />\n",
        "             </video>'''.format(encoded.decode('ascii'))))\n",
        "  else: \n",
        "    print(\"Could not find video\")\n",
        "    \n",
        "\n",
        "def wrap_env(env):\n",
        "  env = Monitor(env, './video', force=True)\n",
        "  return env"
      ],
      "execution_count": 5,
      "outputs": []
    },
    {
      "cell_type": "markdown",
      "metadata": {
        "id": "UHkrflTWakKd"
      },
      "source": [
        "Import other packages:\n",
        "\n",
        "We will use Pytorch for building and learning our DQN network."
      ]
    },
    {
      "cell_type": "code",
      "metadata": {
        "id": "9KvZYSl6RrzD"
      },
      "source": [
        "import torch\n",
        "from torch import nn\n",
        "import copy\n",
        "from collections import deque\n",
        "import random\n",
        "from tqdm import tqdm\n",
        "import matplotlib.pyplot as plt"
      ],
      "execution_count": 6,
      "outputs": []
    },
    {
      "cell_type": "markdown",
      "metadata": {
        "id": "zrLGCk-3ditk"
      },
      "source": [
        "## Run the game with random agent."
      ]
    },
    {
      "cell_type": "code",
      "metadata": {
        "id": "ZMcGALcWeWfh",
        "colab": {
          "base_uri": "https://localhost:8080/",
          "height": 455
        },
        "outputId": "4a2cfcf3-f5a8-4d55-b72f-eb5fdb594e31"
      },
      "source": [
        "from torch import randint\n",
        "from time import sleep\n",
        "\n",
        "env = wrap_env(gym.make('CartPole-v0'))\n",
        "reward_arr = []\n",
        "episode_count = 20\n",
        "for i in tqdm(range(episode_count)):\n",
        "    obs, done, rew = env.reset(), False, 0\n",
        "    env.render()\n",
        "    while not done:\n",
        "        A = randint(0, env.action_space.n, (1,))\n",
        "        obs, reward, done, info = env.step(A.item())\n",
        "        rew += reward\n",
        "        sleep(0.01)\n",
        "    reward_arr.append(rew)\n",
        "print(\"average reward per episode :\", sum(reward_arr) / len(reward_arr))\n",
        "env.close()\n",
        "show_video()"
      ],
      "execution_count": 7,
      "outputs": [
        {
          "output_type": "stream",
          "text": [
            "100%|██████████| 20/20 [00:05<00:00,  3.51it/s]"
          ],
          "name": "stderr"
        },
        {
          "output_type": "stream",
          "text": [
            "average reward per episode : 21.65\n"
          ],
          "name": "stdout"
        },
        {
          "output_type": "stream",
          "text": [
            "\n"
          ],
          "name": "stderr"
        },
        {
          "output_type": "display_data",
          "data": {
            "text/html": [
              "<video alt=\"test\" autoplay \n",
              "                loop controls style=\"height: 400px;\">\n",
              "                <source src=\"data:video/mp4;base64,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\" type=\"video/mp4\" />\n",
              "             </video>"
            ],
            "text/plain": [
              "<IPython.core.display.HTML object>"
            ]
          },
          "metadata": {
            "tags": []
          }
        }
      ]
    },
    {
      "cell_type": "markdown",
      "metadata": {
        "id": "Ope0zHAjfXQh"
      },
      "source": [
        "You can see that a random agent is having trouble balancing the CartPole, just like you. However, a difficult game for human may be very simple to a computer. Let's see how we can use DQN to train a agent. "
      ]
    },
    {
      "cell_type": "markdown",
      "metadata": {
        "id": "OjP_2jn3SFgv"
      },
      "source": [
        "## Experience Replay\n",
        "\n",
        "The technique of experience replay was first proposed in to resolve temporal correlation in the input data by mixing recent experiences as well past experiences, essentially forcing the input to become independent and identically distributed (i.i.d.). It has been shown that this greatly stabilizes\n",
        "and improves the DQN training procedure."
      ]
    },
    {
      "cell_type": "code",
      "metadata": {
        "id": "SoxW1Jlnk8mS"
      },
      "source": [
        "class ExperienceReplay(object):\n",
        "      def __init__(self, length):\n",
        "        self.experience_replay = deque(maxlen=length)\n",
        "\n",
        "      def collect(self, experience):\n",
        "        self.experience_replay.append(experience)\n",
        "        return\n",
        "\n",
        "      def sample_from_experience(self, sample_size):\n",
        "        if len(self.experience_replay) < sample_size:\n",
        "            sample_size = len(self.experience_replay)\n",
        "        sample = random.sample(self.experience_replay, sample_size)\n",
        "        state = torch.tensor([exp[0] for exp in sample]).float()\n",
        "        action = torch.tensor([exp[1] for exp in sample]).float()\n",
        "        reward = torch.tensor([exp[2] for exp in sample]).float()\n",
        "        next_state = torch.tensor([exp[3] for exp in sample]).float()\n",
        "        return state, action, reward, next_state\n"
      ],
      "execution_count": 8,
      "outputs": []
    },
    {
      "cell_type": "markdown",
      "metadata": {
        "id": "CgXwmV2im4Sx"
      },
      "source": [
        "## Build our DQN Network\n",
        "\n",
        "We will use a simple multi-layer neural network to learn the optimal actions. We will use Adam Optimizor and MSE loss for training."
      ]
    },
    {
      "cell_type": "code",
      "metadata": {
        "id": "Wmd1pfuRm7MQ"
      },
      "source": [
        "class DQN_Network:\n",
        "\n",
        "    def __init__(self, layer_size_list, lr, seed=1423):\n",
        "        torch.manual_seed(seed)\n",
        "        self.policy_net = self.create_network(layer_size_list)\n",
        "        self.target_net = copy.deepcopy(self.policy_net)\n",
        "  \n",
        "        self.loss_fn = torch.nn.MSELoss()\n",
        "        self.optimizer = torch.optim.Adam(self.policy_net.parameters(), lr=lr)\n",
        "\n",
        "        self.step = 0\n",
        "        self.gamma = torch.tensor(0.95).float()\n",
        "        return\n",
        "\n",
        "    def create_network(self, layer_size_list):\n",
        "        assert len(layer_size_list) > 1\n",
        "\n",
        "        layers = []\n",
        "        for i in range(len(layer_size_list) - 1):\n",
        "            linear = nn.Linear(layer_size_list[i], layer_size_list[i + 1])\n",
        "\n",
        "            if i < len(layer_size_list) - 2:\n",
        "              activation = nn.Tanh()\n",
        "            else:\n",
        "              activation = nn.Identity()\n",
        "\n",
        "            layers += (linear, activation)\n",
        "        return nn.Sequential(*layers)\n",
        "\n",
        "    def load_pretrained_model(self, model_path):\n",
        "        self.policy_net.load_state_dict(torch.load(model_path))\n",
        "\n",
        "    def save_trained_model(self, model_path=\"cartpole-dqn.pth\"):\n",
        "        torch.save(self.policy_net.state_dict(), model_path)\n"
      ],
      "execution_count": 9,
      "outputs": []
    },
    {
      "cell_type": "markdown",
      "metadata": {
        "id": "xKVV16YctASm"
      },
      "source": [
        "## **[Your task]**: complete the function that chooses the next action\n",
        "\n",
        "Choose next action based on **$\\epsilon$-greedy**:\n",
        "\n",
        "\\begin{align}\\text{where} \\quad \\mathcal{a_{t+1}} = \\begin{cases}\n",
        "     \\text{argmax}_{a}Q(a, s)  & \\text{with probability }: 1 - \\epsilon, \\text{exploitation}\\\\\n",
        "     \\text{Uniform}\\{a_{1},...,a_{n}\\} & \\text{with probability}:   \\epsilon, \\text{exploration} \\\\\n",
        "   \\end{cases}\\end{align}"
      ]
    },
    {
      "cell_type": "code",
      "metadata": {
        "id": "iE0gVweYs8xW"
      },
      "source": [
        "def get_action(model, state, action_space_len, epsilon):\n",
        "    # We do not require gradient at this point, because this function will be used either\n",
        "    # during experience collection or during inference\n",
        "\n",
        "    with torch.no_grad():\n",
        "        Qp = model.policy_net(torch.from_numpy(state).float())\n",
        "    Q_value, action = torch.max(Qp, axis=0)\n",
        "\n",
        "    ## TODO: select action and action\n",
        "    prob = random.random()\n",
        "    if prob < epsilon:\n",
        "      action = torch.randint(action_space_len, (1,))    \n",
        "    return action"
      ],
      "execution_count": 10,
      "outputs": []
    },
    {
      "cell_type": "markdown",
      "metadata": {
        "id": "iF9a5-IbazjQ"
      },
      "source": [
        "### **[Your task]**: complete the function that train the network for one step\n",
        "\n",
        "Here, you can find an ``train`` function that performs a\n",
        "single step of the optimization. \n",
        "\n",
        "For our training update rule, the loss you are trying to minimize is:\n",
        "\n",
        "\\begin{align}\\text{loss} = Q(s, a) - (r + \\gamma \\max_a Q(s', a))\\end{align}"
      ]
    },
    {
      "cell_type": "code",
      "metadata": {
        "id": "mtx4FAiab0Hp"
      },
      "source": [
        "def train(model, batch_size):\n",
        "    state, action, reward, next_state = memory.sample_from_experience(sample_size=batch_size)\n",
        "\n",
        "    # TODO: predict expected return of current state using main network\n",
        "    Qp = model.policy_net(state)\n",
        "\n",
        "    num_state = len(action)\n",
        "    pred = torch.zeros((num_state))\n",
        "    for i in range(num_state):\n",
        "      pred[i] = Qp[i][int(action[i])]\n",
        "\n",
        "    # TODO: get target return using target network\n",
        "    Qt = model.target_net(next_state)\n",
        "    target, next_action = torch.max(Qt, axis = 1)\n",
        "\n",
        "    # TODO: compute the loss\n",
        "    loss = model.loss_fn(pred, reward + model.gamma * target)\n",
        "    model.optimizer.zero_grad()\n",
        "    loss.backward(retain_graph=True)\n",
        "    model.optimizer.step()\n",
        "\n",
        "    model.step += 1\n",
        "    if model.step % 5 == 0:\n",
        "        model.target_net.load_state_dict(model.policy_net.state_dict())\n",
        "\n",
        "    return loss.item()"
      ],
      "execution_count": 11,
      "outputs": []
    },
    {
      "cell_type": "markdown",
      "metadata": {
        "id": "uskoe87Uz-Jg"
      },
      "source": [
        "### **[Your task]**: Finish the training loop\n",
        "\n",
        "In this part, you can play around with ```exp_replay_size```, ```episode```, ```epsilon``` and the \"episodo decay\" logic to train your model."
      ]
    },
    {
      "cell_type": "code",
      "metadata": {
        "id": "3NfNnyD6SPpN",
        "colab": {
          "base_uri": "https://localhost:8080/"
        },
        "outputId": "b64532cb-3198-475b-e216-2d41cfa6ee95"
      },
      "source": [
        "# Create the model\n",
        "env = gym.make('CartPole-v0')\n",
        "input_dim = env.observation_space.shape[0]\n",
        "output_dim = env.action_space.n\n",
        "agent = DQN_Network(layer_size_list=[input_dim, 64, output_dim], lr=1e-3)\n",
        "\n",
        "# Main training loop\n",
        "losses_list, reward_list, episode_len_list, epsilon_list = [], [], [], []\n",
        "\n",
        "# TODO: try different values, it normally takes more than 6k episodes to train\n",
        "exp_replay_size = 2000\n",
        "memory = ExperienceReplay(exp_replay_size)\n",
        "episodes = 12000\n",
        "epsilon = 1 # episilon start from 1 and decay gradually. \n",
        "\n",
        "# initiliaze experiance replay\n",
        "index = 0\n",
        "for i in range(exp_replay_size):\n",
        "    obs = env.reset()\n",
        "    done = False\n",
        "    while not done:\n",
        "        A = get_action(agent, obs, env.action_space.n, epsilon=1)\n",
        "        obs_next, reward, done, _ = env.step(A.item())\n",
        "        memory.collect([obs, A.item(), reward, obs_next])\n",
        "        obs = obs_next\n",
        "        index += 1\n",
        "        if index > exp_replay_size:\n",
        "            break\n",
        "\n",
        "index = 128\n",
        "for i in tqdm(range(episodes)):\n",
        "    obs, done, losses, ep_len, rew = env.reset(), False, 0, 0, 0\n",
        "    while not done:\n",
        "        ep_len += 1\n",
        "        A = get_action(agent, obs, env.action_space.n, epsilon)\n",
        "        obs_next, reward, done, _ = env.step(A.item())\n",
        "        memory.collect([obs, A.item(), reward, obs_next])\n",
        "\n",
        "        obs = obs_next\n",
        "        rew += reward\n",
        "        index += 1\n",
        "\n",
        "        if index > 128:\n",
        "            index = 0\n",
        "            for j in range(4):\n",
        "                loss = train(agent, batch_size=16)\n",
        "                losses += loss\n",
        "    \n",
        "    # TODO: add epsilon decay rule here! \n",
        "    epsilon = epsilon * 0.6\n",
        "\n",
        "    losses_list.append(losses / ep_len), reward_list.append(rew)\n",
        "    episode_len_list.append(ep_len), epsilon_list.append(epsilon)\n",
        "\n",
        "print(\"Saving trained model\")\n",
        "agent.save_trained_model(\"cartpole-dqn.pth\")"
      ],
      "execution_count": 15,
      "outputs": [
        {
          "output_type": "stream",
          "text": [
            "100%|██████████| 12000/12000 [00:52<00:00, 227.92it/s]"
          ],
          "name": "stderr"
        },
        {
          "output_type": "stream",
          "text": [
            "Saving trained model\n"
          ],
          "name": "stdout"
        },
        {
          "output_type": "stream",
          "text": [
            "\n"
          ],
          "name": "stderr"
        }
      ]
    },
    {
      "cell_type": "markdown",
      "metadata": {
        "id": "CCow7jNXf5YT"
      },
      "source": [
        "## Last Step: evaluate your trained model!\n",
        "\n",
        "First we can plot the reward vs. episode:"
      ]
    },
    {
      "cell_type": "code",
      "metadata": {
        "id": "-Hy_FP7yeXA4",
        "colab": {
          "base_uri": "https://localhost:8080/",
          "height": 295
        },
        "outputId": "4b9f487c-19db-4c8b-f2d2-c24ad3103b7d"
      },
      "source": [
        "def plot_reward(r):\n",
        "    plt.figure(2)\n",
        "    plt.clf()\n",
        "    plt.title('Result')\n",
        "    plt.xlabel('Episode')\n",
        "    plt.ylabel('Reward')\n",
        "    plt.plot(r)\n",
        "\n",
        "plot_reward(reward_list)"
      ],
      "execution_count": 16,
      "outputs": [
        {
          "output_type": "display_data",
          "data": {
            "image/png": "[encoded data removed]",
            "text/plain": [
              "<Figure size 432x288 with 1 Axes>"
            ]
          },
          "metadata": {
            "tags": [],
            "needs_background": "light"
          }
        }
      ]
    },
    {
      "cell_type": "code",
      "metadata": {
        "id": "EMEivKldTGVG",
        "colab": {
          "base_uri": "https://localhost:8080/",
          "height": 455
        },
        "outputId": "cb097459-0e13-4a99-f781-f25e08738d72"
      },
      "source": [
        "env = wrap_env(gym.make('CartPole-v0'))\n",
        "\n",
        "input_dim = env.observation_space.shape[0]\n",
        "output_dim = env.action_space.n\n",
        "model_validate = DQN_Network(layer_size_list=[input_dim, 64, output_dim], lr=1e-3)\n",
        "model_validate.load_pretrained_model(\"cartpole-dqn.pth\")\n",
        "\n",
        "reward_arr = []\n",
        "for i in tqdm(range(300)):\n",
        "    obs, done, rew = env.reset(), False, 0\n",
        "    env.render()\n",
        "    while not done:\n",
        "        A = get_action(model_validate, obs, env.action_space.n, epsilon=0)\n",
        "        obs, reward, done, info = env.step(A.item())\n",
        "        rew += reward\n",
        "        # sleep(0.01)\n",
        "\n",
        "    reward_arr.append(rew)\n",
        "print(\"average reward per episode :\", sum(reward_arr) / len(reward_arr))\n",
        "env.close()\n",
        "show_video()"
      ],
      "execution_count": 17,
      "outputs": [
        {
          "output_type": "stream",
          "text": [
            "100%|██████████| 300/300 [00:11<00:00, 25.63it/s]"
          ],
          "name": "stderr"
        },
        {
          "output_type": "stream",
          "text": [
            "average reward per episode : 135.70666666666668\n"
          ],
          "name": "stdout"
        },
        {
          "output_type": "stream",
          "text": [
            "\n"
          ],
          "name": "stderr"
        },
        {
          "output_type": "display_data",
          "data": {
            "text/html": [
              "<video alt=\"test\" autoplay \n",
              "                loop controls style=\"height: 400px;\">\n",
              "                <source src=\"data:video/mp4;base64,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\" type=\"video/mp4\" />\n",
              "             </video>"
            ],
            "text/plain": [
              "<IPython.core.display.HTML object>"
            ]
          },
          "metadata": {
            "tags": []
          }
        }
      ]
    }
  ]
}